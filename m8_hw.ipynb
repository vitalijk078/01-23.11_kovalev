{
 "cells": [
  {
   "cell_type": "markdown",
   "metadata": {},
   "source": [
    "### Задачи по теме **\"Базовые исключения и обработка ошибок\"**\n",
    "\n"
   ]
  },
  {
   "cell_type": "markdown",
   "metadata": {},
   "source": [
    "\n",
    "\n",
    "1. **Деление с обработкой ZeroDivisionError**  \n",
    "Напишите функцию `safe_divide()`, которая принимает два числа и возвращает результат деления. Обработайте исключение деления на ноль, возвращая в этом случае `None`.  \n",
    "Пример:  \n",
    "```python\n",
    "print(safe_divide(10, 2))  # 5.0\n",
    "print(safe_divide(10, 0))  # None\n",
    "```\n",
    "\n"
   ]
  },
  {
   "cell_type": "code",
   "execution_count": null,
   "metadata": {},
   "outputs": [],
   "source": [
    "# ваш код тут\n",
    "def safe_divide(a, b):\n",
    "    try:\n",
    "        return a / b\n",
    "    except ZeroDivisionError:\n",
    "        return None\n"
   ]
  },
  {
   "cell_type": "markdown",
   "metadata": {},
   "source": [
    "\n",
    "\n",
    "2. **Преобразование строки в число**  \n",
    "Создайте функцию `convert_to_int()`, которая принимает строку и преобразует её в целое число. Обработайте `ValueError`, возвращая `\"Ошибка преобразования\"`.  \n",
    "Пример:  \n",
    "```python\n",
    "print(convert_to_int(\"123\"))  # 123\n",
    "print(convert_to_int(\"abc\"))  # \"Ошибка преобразования\"\n",
    "```\n",
    "\n"
   ]
  },
  {
   "cell_type": "code",
   "execution_count": null,
   "metadata": {},
   "outputs": [],
   "source": [
    "# ваш код тут\n",
    "def convert_to_int(s):\n",
    "    try:\n",
    "        return int(s)\n",
    "    except ValueError:\n",
    "        return \"Ошибка преобразования\"\n"
   ]
  },
  {
   "cell_type": "markdown",
   "metadata": {},
   "source": [
    "\n",
    "\n",
    "3. **Обработка TypeError**  \n",
    "Напишите функцию `add_numbers()`, которая складывает два числа. Если переданы нечисловые аргументы, обработайте `TypeError` и верните `\"Аргументы должны быть числами\"`.  \n",
    "Пример:  \n",
    "```python\n",
    "print(add_numbers(2, 3))    # 5\n",
    "print(add_numbers(2, \"a\"))  # \"Аргументы должны быть числами\"\n",
    "```\n",
    "\n"
   ]
  },
  {
   "cell_type": "code",
   "execution_count": null,
   "metadata": {},
   "outputs": [],
   "source": [
    "# ваш код тут\n",
    "def add_numbers(a, b):\n",
    "    try:\n",
    "        return a + b\n",
    "    except TypeError:\n",
    "        return \"Аргументы должны быть числами\"\n"
   ]
  },
  {
   "cell_type": "markdown",
   "metadata": {},
   "source": [
    "\n",
    "\n",
    "### Задачи по теме **\"Множественная обработка исключений\"**\n",
    "\n"
   ]
  },
  {
   "cell_type": "markdown",
   "metadata": {},
   "source": [
    "\n",
    "\n",
    "4. **Комплексная проверка ввода**  \n",
    "Создайте функцию `get_user_input()`, которая запрашивает у пользователя число. Обработайте `ValueError` (нечисловой ввод) и `KeyboardInterrupt` (прерывание ввода).  \n",
    "Пример:  \n",
    "```python\n",
    "Введите число: abc\n",
    "Ошибка: Введите число!\n",
    "Введите число: (нажато Ctrl+C)\n",
    "Программа прервана.\n",
    "```\n",
    "\n"
   ]
  },
  {
   "cell_type": "code",
   "execution_count": null,
   "metadata": {},
   "outputs": [],
   "source": [
    "# ваш код тут\n",
    "def get_user_input():\n",
    "    try:\n",
    "        value = int(input(\"Введите число: \"))\n",
    "        return value\n",
    "    except ValueError:\n",
    "        print(\"Ошибка: Введите число!\")\n",
    "    except KeyboardInterrupt:\n",
    "        print(\"\\nПрограмма прервана.\")\n"
   ]
  },
  {
   "cell_type": "markdown",
   "metadata": {},
   "source": [
    "\n",
    "\n",
    "5. **Работа с файлами и исключениями**  \n",
    "Напишите функцию `read_file()`, которая читает файл и возвращает его содержимое. Обработайте `FileNotFoundError` и `PermissionError`.  \n",
    "Пример:  \n",
    "```python\n",
    "print(read_file(\"nonexistent.txt\"))  # \"Файл не найден\"\n",
    "```\n",
    "\n"
   ]
  },
  {
   "cell_type": "code",
   "execution_count": null,
   "metadata": {},
   "outputs": [],
   "source": [
    "# ваш код тут\n",
    "def read_file(filename):\n",
    "    try:\n",
    "        with open(filename, 'r') as file:\n",
    "            return file.read()\n",
    "    except FileNotFoundError:\n",
    "        return \"Файл не найден\"\n",
    "    except PermissionError:\n",
    "        return \"Нет доступа к файлу\"\n"
   ]
  },
  {
   "cell_type": "markdown",
   "metadata": {},
   "source": [
    "\n",
    "\n",
    "6. **Обработка арифметических ошибок**  \n",
    "Создайте функцию `calculate()`, которая выполняет деление и обрабатывает `ZeroDivisionError` и `OverflowError`.  \n",
    "Пример:  \n",
    "```python\n",
    "print(calculate(10, 0))    # \"Деление на ноль\"\n",
    "print(calculate(1e100, 1)) # \"Переполнение\"\n",
    "```\n",
    "\n"
   ]
  },
  {
   "cell_type": "code",
   "execution_count": null,
   "metadata": {},
   "outputs": [],
   "source": [
    "# ваш код тут\n",
    "def calculate(a, b):\n",
    "    try:\n",
    "        result = a / b\n",
    "        if result == float('inf'):\n",
    "            raise OverflowError\n",
    "        return result\n",
    "    except ZeroDivisionError:\n",
    "        return \"Деление на ноль\"\n",
    "    except OverflowError:\n",
    "        return \"Переполнение\"\n"
   ]
  },
  {
   "cell_type": "markdown",
   "metadata": {},
   "source": [
    "\n",
    "\n",
    "### Задачи по теме **\"Использование finally и else\"**\n",
    "\n"
   ]
  },
  {
   "cell_type": "markdown",
   "metadata": {},
   "source": [
    "\n",
    "\n",
    "7. **Закрытие ресурсов**  \n",
    "Напишите функцию `open_file()`, которая открывает файл, читает первую строку и закрывает его, используя `finally`.  \n",
    "Пример:  \n",
    "```python\n",
    "print(open_file(\"example.txt\"))  # \"Первая строка файла\"\n",
    "```\n",
    "\n"
   ]
  },
  {
   "cell_type": "code",
   "execution_count": null,
   "metadata": {},
   "outputs": [],
   "source": [
    "# ваш код тут\n",
    "def open_file(filename):\n",
    "    file = None\n",
    "    try:\n",
    "        file = open(filename, 'r')\n",
    "        return file.readline().strip()\n",
    "    except FileNotFoundError:\n",
    "        return \"Файл не найден\"\n",
    "    finally:\n",
    "        if file:\n",
    "            file.close()\n"
   ]
  },
  {
   "cell_type": "markdown",
   "metadata": {},
   "source": [
    "\n",
    "\n",
    "8. **Успешное выполнение блока try**  \n",
    "Создайте функцию `check_even()`, которая проверяет, является ли число чётным. Используйте `else` для вывода сообщения об успехе.  \n",
    "Пример:  \n",
    "```python\n",
    "check_even(4)  # \"Число 4 чётное\"\n",
    "check_even(3)  # Ничего не выводится\n",
    "```\n",
    "\n"
   ]
  },
  {
   "cell_type": "code",
   "execution_count": null,
   "metadata": {},
   "outputs": [],
   "source": [
    "# ваш код тут\n",
    "def check_even(n):\n",
    "    try:\n",
    "        if n % 2 != 0:\n",
    "            return\n",
    "    except TypeError:\n",
    "        print(\"Ошибка: Введите число.\")\n",
    "    else:\n",
    "        print(f\"Число {n} чётное\")\n"
   ]
  },
  {
   "cell_type": "markdown",
   "metadata": {},
   "source": [
    "\n",
    "\n",
    "### Задачи по теме **\"Пользовательские исключения\"**\n",
    "\n"
   ]
  },
  {
   "cell_type": "markdown",
   "metadata": {},
   "source": [
    "\n",
    "\n",
    "9. **Проверка возраста**  \n",
    "Создайте исключение `NegativeAgeError` и функцию `validate_age()`, которая проверяет, что возраст не отрицательный.  \n",
    "Пример:  \n",
    "```python\n",
    "validate_age(-5)  # Ошибка: Возраст не может быть отрицательным\n",
    "validate_age(25)  # Успех\n",
    "```\n",
    "\n"
   ]
  },
  {
   "cell_type": "code",
   "execution_count": null,
   "metadata": {},
   "outputs": [],
   "source": [
    "# ваш код тут\n",
    "class NegativeAgeError(Exception):\n",
    "    pass\n",
    "\n",
    "def validate_age(age):\n",
    "    if age < 0:\n",
    "        raise NegativeAgeError(\"Возраст не может быть отрицательным\")\n",
    "    print(\"Успех\")\n"
   ]
  },
  {
   "cell_type": "markdown",
   "metadata": {},
   "source": [
    "\n",
    "\n",
    "10. **Проверка пароля**  \n",
    "Напишите исключение `WeakPasswordError` и функцию `check_password()`, которая проверяет длину пароля (минимум 8 символов).  \n",
    "Пример:  \n",
    "```python\n",
    "check_password(\"123\")  # Ошибка: Пароль слишком короткий\n",
    "check_password(\"secure123\")  # Успех\n",
    "```\n"
   ]
  },
  {
   "cell_type": "code",
   "execution_count": null,
   "metadata": {},
   "outputs": [],
   "source": [
    "# ваш код тут\n",
    "class WeakPasswordError(Exception):\n",
    "    pass\n",
    "\n",
    "def check_password(password):\n",
    "    if len(password) < 8:\n",
    "        raise WeakPasswordError(\"Пароль слишком короткий\")\n",
    "    print(\"Успех\")\n"
   ]
  }
 ],
 "metadata": {
  "language_info": {
   "name": "python"
  }
 },
 "nbformat": 4,
 "nbformat_minor": 2
}
