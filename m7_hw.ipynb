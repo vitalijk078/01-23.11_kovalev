{
 "cells": [
  {
   "cell_type": "markdown",
   "metadata": {},
   "source": [
    "### Задачи по теме **\"Байты и кодировки\"**\n",
    "\n"
   ]
  },
  {
   "cell_type": "markdown",
   "metadata": {},
   "source": [
    "\n",
    "\n",
    "1. **Преобразование символов в байты**  \n",
    "Напишите функцию, которая принимает строку и возвращает список числовых значений каждого символа с помощью `ord()`.  \n",
    "Примеры:  \n",
    "```python\n",
    "print(char_to_bytes(\"abc\"))  # [97, 98, 99]\n",
    "print(char_to_bytes(\"Привет\"))  # [1055, 1088, 1080, 1074, 1077, 1090]\n",
    "```\n",
    "\n"
   ]
  },
  {
   "cell_type": "code",
   "execution_count": null,
   "metadata": {},
   "outputs": [],
   "source": [
    "# ваш код тут\n",
    "def char_to_bytes(s):\n",
    "    return [ord(char) for char in s]\n"
   ]
  },
  {
   "cell_type": "markdown",
   "metadata": {},
   "source": [
    "\n",
    "\n",
    "2. **Восстановление строки из байтов**  \n",
    "Создайте функцию, которая принимает список числовых значений и возвращает строку с помощью `chr()`.  \n",
    "Примеры:  \n",
    "```python\n",
    "print(bytes_to_char([97, 98, 99]))  # \"abc\"\n",
    "print(bytes_to_char([1055, 1088, 1080, 1074, 1077, 1090]))  # \"Привет\"\n",
    "```\n",
    "\n"
   ]
  },
  {
   "cell_type": "code",
   "execution_count": null,
   "metadata": {},
   "outputs": [],
   "source": [
    "# ваш код тут\n",
    "def bytes_to_char(byte_list):\n",
    "    return ''.join(chr(b) for b in byte_list)\n"
   ]
  },
  {
   "cell_type": "markdown",
   "metadata": {},
   "source": [
    "\n",
    "\n",
    "3. **Работа с шестнадцатеричным представлением**  \n",
    "Напишите функцию, которая преобразует символ в его шестнадцатеричное представление.  \n",
    "Примеры:  \n",
    "```python\n",
    "print(char_to_hex(\"A\"))  # \"0x41\"\n",
    "print(char_to_hex(\"Й\"))  # \"0x419\"\n",
    "```\n",
    "\n"
   ]
  },
  {
   "cell_type": "code",
   "execution_count": null,
   "metadata": {},
   "outputs": [],
   "source": [
    "# ваш код тут\n",
    "def char_to_hex(c):\n",
    "    return hex(ord(c))\n"
   ]
  },
  {
   "cell_type": "markdown",
   "metadata": {},
   "source": [
    "\n",
    "\n",
    "4. **Декодирование байтовой строки**  \n",
    "Создайте функцию, которая принимает байтовую строку (например, `b'\\xd0\\x9f\\xd1\\x80\\xd0\\xb8\\xd0\\xb2\\xd0\\xb5\\xd1\\x82'`) и возвращает декодированную строку в UTF-8.  \n",
    "Примеры:  \n",
    "```python\n",
    "print(decode_bytes(b'\\xd0\\x9f\\xd1\\x80\\xd0\\xb8\\xd0\\xb2\\xd0\\xb5\\xd1\\x82'))  # \"Привет\"\n",
    "print(decode_bytes(b'hello'))  # \"hello\"\n",
    "```\n",
    "\n"
   ]
  },
  {
   "cell_type": "code",
   "execution_count": null,
   "metadata": {},
   "outputs": [],
   "source": [
    "# ваш код тут\n",
    "def decode_bytes(byte_str):\n",
    "    return byte_str.decode('utf-8')\n"
   ]
  },
  {
   "cell_type": "markdown",
   "metadata": {},
   "source": [
    "\n",
    "\n",
    "5. **Проверка кодировки символов**  \n",
    "Напишите функцию, которая определяет, является ли символ ASCII (1 байт) или Unicode (2+ байта).  \n",
    "Примеры:  \n",
    "```python\n",
    "print(check_encoding(\"A\"))  # \"ASCII\"\n",
    "print(check_encoding(\"Й\"))  # \"Unicode\"\n",
    "```\n",
    "\n"
   ]
  },
  {
   "cell_type": "code",
   "execution_count": null,
   "metadata": {},
   "outputs": [],
   "source": [
    "# ваш код тут\n",
    "def check_encoding(c):\n",
    "    return \"ASCII\" if ord(c) < 128 else \"Unicode\"\n",
    "\n",
    "\n"
   ]
  },
  {
   "cell_type": "markdown",
   "metadata": {},
   "source": [
    "\n",
    "\n",
    "### Задачи по теме **\"Работа с файлами\"**\n",
    "\n"
   ]
  },
  {
   "cell_type": "code",
   "execution_count": null,
   "metadata": {},
   "outputs": [],
   "source": [
    "# ваш код тут\n",
    "\n"
   ]
  },
  {
   "cell_type": "markdown",
   "metadata": {},
   "source": [
    "\n",
    "\n",
    "6. **Чтение файла построчно**  \n",
    "Напишите функцию, которая читает файл и возвращает список строк. Используйте контекстный менеджер `with`.  \n",
    "Примеры:  \n",
    "```python\n",
    "print(read_lines(\"example.txt\"))  # [\"Первая строка\", \"Вторая строка\"]\n",
    "```\n",
    "\n"
   ]
  },
  {
   "cell_type": "code",
   "execution_count": null,
   "metadata": {},
   "outputs": [],
   "source": [
    "# ваш код тут\n",
    "def read_lines(filename):\n",
    "    with open(filename, 'r', encoding='utf-8') as f:\n",
    "        return [line.strip() for line in f.readlines()]\n",
    "\n",
    "\n"
   ]
  },
  {
   "cell_type": "markdown",
   "metadata": {},
   "source": [
    "\n",
    "\n",
    "7. **Запись в файл с проверкой кодировки**  \n",
    "Создайте функцию, которая записывает текст в файл, автоматически определяя кодировку (UTF-8 или ASCII).  \n",
    "Примеры:  \n",
    "```python\n",
    "write_to_file(\"output.txt\", \"Hello, world!\")  # ASCII\n",
    "write_to_file(\"output.txt\", \"Привет, мир!\")   # UTF-8\n",
    "```\n",
    "\n"
   ]
  },
  {
   "cell_type": "code",
   "execution_count": null,
   "metadata": {},
   "outputs": [],
   "source": [
    "# ваш код тут\n",
    "def write_to_file(filename, text):\n",
    "    encoding = 'ascii' if all(ord(c) < 128 for c in text) else 'utf-8'\n",
    "    with open(filename, 'w', encoding=encoding) as f:\n",
    "        f.write(text)\n"
   ]
  },
  {
   "cell_type": "markdown",
   "metadata": {},
   "source": [
    "\n",
    "\n",
    "8. **Подсчет слов в файле**  \n",
    "Напишите функцию, которая подсчитывает количество слов в файле.  \n",
    "Примеры:  \n",
    "```python\n",
    "print(count_words(\"example.txt\"))  # 25\n",
    "```\n",
    "\n"
   ]
  },
  {
   "cell_type": "code",
   "execution_count": null,
   "metadata": {},
   "outputs": [],
   "source": [
    "# ваш код тут\n",
    "def count_words(filename):\n",
    "    with open(filename, 'r', encoding='utf-8') as f:\n",
    "        return sum(len(line.split()) for line in f)\n"
   ]
  },
  {
   "cell_type": "markdown",
   "metadata": {},
   "source": [
    "\n",
    "\n",
    "9. **Поиск и замена текста в файле**  \n",
    "Создайте функцию, которая заменяет все вхождения подстроки в файле и сохраняет изменения.  \n",
    "Примеры:  \n",
    "```python\n",
    "replace_in_file(\"example.txt\", \"старое\", \"новое\")\n",
    "```\n",
    "\n"
   ]
  },
  {
   "cell_type": "code",
   "execution_count": null,
   "metadata": {},
   "outputs": [],
   "source": [
    "# ваш код тут\n",
    "def replace_in_file(filename, old, new):\n",
    "    with open(filename, 'r+', encoding='utf-8') as f:\n",
    "        content = f.read()\n",
    "        content = content.replace(old, new)\n",
    "        f.seek(0)\n",
    "        f.write(content)\n",
    "        f.truncate()\n"
   ]
  },
  {
   "cell_type": "markdown",
   "metadata": {},
   "source": [
    "\n",
    "\n",
    "10. **Работа с бинарными файлами**  \n",
    "Напишите функцию, которая читает бинарный файл и возвращает его содержимое в виде байтовой строки.  \n",
    "Примеры:  \n",
    "```python\n",
    "print(read_binary(\"image.png\"))  # b'\\x89PNG\\r\\n\\x1a\\n...'\n",
    "```\n",
    "\n"
   ]
  },
  {
   "cell_type": "code",
   "execution_count": null,
   "metadata": {},
   "outputs": [],
   "source": [
    "# ваш код тут\n",
    "def read_binary(filename):\n",
    "    with open(filename, 'rb') as f:\n",
    "        return f.read()\n"
   ]
  },
  {
   "cell_type": "markdown",
   "metadata": {},
   "source": [
    "\n",
    "\n",
    "11. **Запись бинарных данных**  \n",
    "Создайте функцию, которая записывает байтовую строку в бинарный файл.  \n",
    "Примеры:  \n",
    "```python\n",
    "write_binary(\"output.bin\", b'\\x00\\x01\\x02\\x03')\n",
    "```\n",
    "\n"
   ]
  },
  {
   "cell_type": "code",
   "execution_count": null,
   "metadata": {},
   "outputs": [],
   "source": [
    "# ваш код тут\n",
    "def write_binary(filename, data):\n",
    "    with open(filename, 'wb') as f:\n",
    "        f.write(data)\n"
   ]
  },
  {
   "cell_type": "markdown",
   "metadata": {},
   "source": [
    "\n",
    "\n",
    "12. **Копирование файла**  \n",
    "Напишите функцию, которая копирует содержимое одного файла в другой.  \n",
    "Примеры:  \n",
    "```python\n",
    "copy_file(\"source.txt\", \"destination.txt\")\n",
    "```\n",
    "\n"
   ]
  },
  {
   "cell_type": "code",
   "execution_count": null,
   "metadata": {},
   "outputs": [],
   "source": [
    "# ваш код тут\n",
    "def copy_file(src, dst):\n",
    "    with open(src, 'rb') as f_src, open(dst, 'wb') as f_dst:\n",
    "        f_dst.write(f_src.read())\n"
   ]
  },
  {
   "cell_type": "markdown",
   "metadata": {},
   "source": [
    "\n",
    "\n",
    "13. **Объединение файлов**  \n",
    "Создайте функцию, которая объединяет содержимое нескольких файлов в один.  \n",
    "Примеры:  \n",
    "```python\n",
    "merge_files([\"file1.txt\", \"file2.txt\"], \"merged.txt\")\n",
    "```\n",
    "\n"
   ]
  },
  {
   "cell_type": "code",
   "execution_count": null,
   "metadata": {},
   "outputs": [],
   "source": [
    "# ваш код тут\n",
    "def merge_files(file_list, output_file):\n",
    "    with open(output_file, 'w', encoding='utf-8') as out:\n",
    "        for file in file_list:\n",
    "            with open(file, 'r', encoding='utf-8') as f:\n",
    "                out.write(f.read() + '\\n')\n"
   ]
  },
  {
   "cell_type": "markdown",
   "metadata": {},
   "source": [
    "\n",
    "\n",
    "14. **Поиск строк по шаблону**  \n",
    "Напишите функцию, которая ищет строки в файле, соответствующие регулярному выражению.  \n",
    "Примеры:  \n",
    "```python\n",
    "print(find_pattern(\"example.txt\", r\"\\d+\"))  # [\"123\", \"45\"]\n",
    "```\n",
    "\n"
   ]
  },
  {
   "cell_type": "code",
   "execution_count": null,
   "metadata": {},
   "outputs": [],
   "source": [
    "# ваш код тут\n",
    "import re\n",
    "\n",
    "def find_pattern(filename, pattern):\n",
    "    with open(filename, 'r', encoding='utf-8') as f:\n",
    "        return re.findall(pattern, f.read())\n"
   ]
  },
  {
   "cell_type": "markdown",
   "metadata": {},
   "source": [
    "\n",
    "\n",
    "15. **Удаление пустых строк**  \n",
    "Создайте функцию, которая удаляет пустые строки из файла.  \n",
    "Примеры:  \n",
    "```python\n",
    "remove_empty_lines(\"example.txt\")\n",
    "```\n",
    "\n"
   ]
  },
  {
   "cell_type": "code",
   "execution_count": null,
   "metadata": {},
   "outputs": [],
   "source": [
    "# ваш код тут\n",
    "def remove_empty_lines(filename):\n",
    "    with open(filename, 'r', encoding='utf-8') as f:\n",
    "        lines = f.readlines()\n",
    "    with open(filename, 'w', encoding='utf-8') as f:\n",
    "        f.writelines(line for line in lines if line.strip())\n"
   ]
  },
  {
   "cell_type": "markdown",
   "metadata": {},
   "source": [
    "\n",
    "\n",
    "### Задачи по теме **\"Маркеры и позиционирование в файлах\"**\n",
    "\n"
   ]
  },
  {
   "cell_type": "code",
   "execution_count": null,
   "metadata": {},
   "outputs": [],
   "source": [
    "# ваш код тут"
   ]
  },
  {
   "cell_type": "markdown",
   "metadata": {},
   "source": [
    "\n",
    "\n",
    "16. **Чтение файла с определенной позиции**  \n",
    "Напишите функцию, которая читает файл, начиная с указанной позиции.  \n",
    "Примеры:  \n",
    "```python\n",
    "print(read_from_position(\"example.txt\", 10))  # \"строка...\"\n",
    "```\n",
    "\n"
   ]
  },
  {
   "cell_type": "code",
   "execution_count": null,
   "metadata": {},
   "outputs": [],
   "source": [
    "# ваш код тут\n",
    "def read_from_position(filename, position):\n",
    "    with open(filename, 'r', encoding='utf-8') as f:\n",
    "        f.seek(position)\n",
    "        return f.read()\n"
   ]
  },
  {
   "cell_type": "markdown",
   "metadata": {},
   "source": [
    "\n",
    "\n",
    "17. **Запись в определенную позицию**  \n",
    "Создайте функцию, которая записывает текст в файл, начиная с указанной позиции.  \n",
    "Примеры:  \n",
    "```python\n",
    "write_at_position(\"example.txt\", \"новый текст\", 10)\n",
    "```\n",
    "\n"
   ]
  },
  {
   "cell_type": "code",
   "execution_count": null,
   "metadata": {},
   "outputs": [],
   "source": [
    "# ваш код тут\n",
    "def write_at_position(filename, text, position):\n",
    "    with open(filename, 'r+', encoding='utf-8') as f:\n",
    "        f.seek(position)\n",
    "        f.write(text)\n"
   ]
  },
  {
   "cell_type": "markdown",
   "metadata": {},
   "source": [
    "\n",
    "\n",
    "18. **Определение размера файла**  \n",
    "Напишите функцию, которая возвращает размер файла в байтах.  \n",
    "Примеры:  \n",
    "```python\n",
    "print(file_size(\"example.txt\"))  # 1024\n",
    "```\n",
    "\n"
   ]
  },
  {
   "cell_type": "code",
   "execution_count": null,
   "metadata": {},
   "outputs": [],
   "source": [
    "# ваш код тут\n",
    "import os\n",
    "\n",
    "def file_size(filename):\n",
    "    return os.path.getsize(filename)\n"
   ]
  },
  {
   "cell_type": "markdown",
   "metadata": {},
   "source": [
    "\n",
    "\n",
    "19. **Проверка существования файла**  \n",
    "Создайте функцию, которая проверяет, существует ли файл.  \n",
    "Примеры:  \n",
    "```python\n",
    "print(file_exists(\"example.txt\"))  # True/False\n",
    "```\n",
    "\n"
   ]
  },
  {
   "cell_type": "code",
   "execution_count": null,
   "metadata": {},
   "outputs": [],
   "source": [
    "# ваш код тут\n",
    "import os\n",
    "\n",
    "def file_exists(filename):\n",
    "    return os.path.isfile(filename)\n"
   ]
  },
  {
   "cell_type": "markdown",
   "metadata": {},
   "source": [
    "\n",
    "\n",
    "20. **Создание временного файла**  \n",
    "Напишите функцию, которая создает временный файл, записывает в него данные и возвращает его имя.  \n",
    "Примеры:  \n",
    "```python\n",
    "temp_file = create_temp_file(\"Временные данные\")\n",
    "print(temp_file)  # \"/tmp/tmp1234.txt\"\n",
    "```\n",
    "\n"
   ]
  },
  {
   "cell_type": "code",
   "execution_count": null,
   "metadata": {},
   "outputs": [],
   "source": [
    "# ваш код тут\n",
    "import tempfile\n",
    "\n",
    "def create_temp_file(data):\n",
    "    with tempfile.NamedTemporaryFile(delete=False, mode='w', encoding='utf-8', suffix='.txt') as tmp:\n",
    "        tmp.write(data)\n",
    "        return tmp.name\n"
   ]
  },
  {
   "cell_type": "markdown",
   "metadata": {},
   "source": [
    "\n",
    "\n",
    "### Задачи по теме **\"Режимы работы с файлами\"**\n",
    "\n"
   ]
  },
  {
   "cell_type": "code",
   "execution_count": null,
   "metadata": {},
   "outputs": [],
   "source": [
    "# ваш код тут\n"
   ]
  },
  {
   "cell_type": "markdown",
   "metadata": {},
   "source": [
    "\n",
    "\n",
    "21. **Добавление текста в конец файла**  \n",
    "Создайте функцию, которая добавляет текст в конец файла, используя режим `'a'`.  \n",
    "Примеры:  \n",
    "```python\n",
    "append_to_file(\"example.txt\", \"Новая строка\")\n",
    "```\n",
    "\n"
   ]
  },
  {
   "cell_type": "code",
   "execution_count": null,
   "metadata": {},
   "outputs": [],
   "source": [
    "# ваш код тут\n",
    "def append_to_file(filename, text):\n",
    "    with open(filename, 'a', encoding='utf-8') as f:\n",
    "        f.write(text + '\\n')\n"
   ]
  },
  {
   "cell_type": "markdown",
   "metadata": {},
   "source": [
    "\n",
    "\n",
    "22. **Перезапись файла**  \n",
    "Напишите функцию, которая полностью перезаписывает содержимое файла, используя режим `'w'`.  \n",
    "Примеры:  \n",
    "```python\n",
    "overwrite_file(\"example.txt\", \"Новое содержимое\")\n",
    "```\n",
    "\n"
   ]
  },
  {
   "cell_type": "code",
   "execution_count": null,
   "metadata": {},
   "outputs": [],
   "source": [
    "# ваш код тут\n",
    "def overwrite_file(filename, text):\n",
    "    with open(filename, 'w', encoding='utf-8') as f:\n",
    "        f.write(text)\n"
   ]
  },
  {
   "cell_type": "markdown",
   "metadata": {},
   "source": [
    "\n",
    "\n",
    "23. **Чтение и запись одновременно**  \n",
    "Создайте функцию, которая читает и дописывает файл, используя режим `'r+'`.  \n",
    "Примеры:  \n",
    "```python\n",
    "read_and_append(\"example.txt\", \"Дополнительный текст\")\n",
    "```\n",
    "\n"
   ]
  },
  {
   "cell_type": "code",
   "execution_count": null,
   "metadata": {},
   "outputs": [],
   "source": [
    "# ваш код тут\n",
    "def read_and_append(filename, text):\n",
    "    with open(filename, 'r+', encoding='utf-8') as f:\n",
    "        content = f.read()\n",
    "        f.write('\\n' + text)\n",
    "        return content\n"
   ]
  },
  {
   "cell_type": "markdown",
   "metadata": {},
   "source": [
    "\n",
    "\n",
    "24. **Создание нового файла**  \n",
    "Напишите функцию, которая создает новый файл, используя режим `'x'`. Если файл существует, функция должна возвращать ошибку.  \n",
    "Примеры:  \n",
    "```python\n",
    "create_new_file(\"newfile.txt\", \"Содержимое\")\n",
    "```\n",
    "\n"
   ]
  },
  {
   "cell_type": "code",
   "execution_count": null,
   "metadata": {},
   "outputs": [],
   "source": [
    "# ваш код тут\n",
    "def create_new_file(filename, content):\n",
    "    with open(filename, 'x', encoding='utf-8') as f:\n",
    "        f.write(content)\n"
   ]
  },
  {
   "cell_type": "markdown",
   "metadata": {},
   "source": [
    "\n",
    "\n",
    "25. **Работа с файлом в бинарном режиме**  \n",
    "Создайте функцию, которая читает и записывает файл в бинарном режиме.  \n",
    "Примеры:  \n",
    "```python\n",
    "binary_operations(\"data.bin\", b'\\x00\\x01\\x02')\n",
    "```\n",
    "\n"
   ]
  },
  {
   "cell_type": "code",
   "execution_count": null,
   "metadata": {},
   "outputs": [],
   "source": [
    "# ваш код тут\n",
    "def binary_operations(filename, data):\n",
    "    with open(filename, 'wb') as f:\n",
    "        f.write(data)\n",
    "    with open(filename, 'rb') as f:\n",
    "        return f.read()\n"
   ]
  },
  {
   "cell_type": "markdown",
   "metadata": {},
   "source": [
    "\n",
    "\n",
    "### Задачи по теме **\"Методы файловых объектов\"**\n",
    "\n"
   ]
  },
  {
   "cell_type": "code",
   "execution_count": null,
   "metadata": {},
   "outputs": [],
   "source": [
    "# ваш код тут"
   ]
  },
  {
   "cell_type": "markdown",
   "metadata": {},
   "source": [
    "\n",
    "\n",
    "26. **Построчное чтение файла**  \n",
    "Напишите функцию, которая читает файл построчно и возвращает список строк.  \n",
    "Примеры:  \n",
    "```python\n",
    "print(read_lines(\"example.txt\"))  # [\"Строка 1\", \"Строка 2\"]\n",
    "```\n",
    "\n"
   ]
  },
  {
   "cell_type": "code",
   "execution_count": null,
   "metadata": {},
   "outputs": [],
   "source": [
    "# ваш код тут\n",
    "def read_lines(filename):\n",
    "    with open(filename, 'r', encoding='utf-8') as f:\n",
    "        return f.readlines()\n"
   ]
  },
  {
   "cell_type": "markdown",
   "metadata": {},
   "source": [
    "\n",
    "\n",
    "27. **Запись списка строк в файл**  \n",
    "Создайте функцию, которая записывает список строк в файл.  \n",
    "Примеры:  \n",
    "```python\n",
    "write_lines(\"output.txt\", [\"Строка 1\", \"Строка 2\"])\n",
    "```\n",
    "\n"
   ]
  },
  {
   "cell_type": "code",
   "execution_count": null,
   "metadata": {},
   "outputs": [],
   "source": [
    "# ваш код тут\n",
    "def write_lines(filename, lines):\n",
    "    with open(filename, 'w', encoding='utf-8') as f:\n",
    "        f.writelines(line + '\\n' for line in lines)\n"
   ]
  },
  {
   "cell_type": "markdown",
   "metadata": {},
   "source": [
    "\n",
    "\n",
    "28. **Проверка доступности файла**  \n",
    "Напишите функцию, которая проверяет, доступен ли файл для чтения или записи.  \n",
    "Примеры:  \n",
    "```python\n",
    "print(check_file_access(\"example.txt\", 'r'))  # True/False\n",
    "```\n",
    "\n"
   ]
  },
  {
   "cell_type": "code",
   "execution_count": null,
   "metadata": {},
   "outputs": [],
   "source": [
    "# ваш код тут\n",
    "import os\n",
    "\n",
    "def check_file_access(filename, mode='r'):\n",
    "    try:\n",
    "        with open(filename, mode):\n",
    "            return True\n",
    "    except IOError:\n",
    "        return False\n"
   ]
  },
  {
   "cell_type": "markdown",
   "metadata": {},
   "source": [
    "\n",
    "\n",
    "29. **Буферизация файла**  \n",
    "Создайте функцию, которая демонстрирует работу буферизации при чтении файла.  \n",
    "Примеры:  \n",
    "```python\n",
    "buffer_demo(\"example.txt\")\n",
    "```\n",
    "\n"
   ]
  },
  {
   "cell_type": "code",
   "execution_count": null,
   "metadata": {},
   "outputs": [],
   "source": [
    "# ваш код тут\n",
    "def buffer_demo(filename):\n",
    "    with open(filename, 'r', buffering=8, encoding='utf-8') as f:\n",
    "        for line in f:\n",
    "            print(line.strip())\n"
   ]
  },
  {
   "cell_type": "markdown",
   "metadata": {},
   "source": [
    "\n",
    "\n",
    "30. **Обработка ошибок при работе с файлами**  \n",
    "Напишите функцию, которая обрабатывает исключения при работе с файлами (например, `FileNotFoundError`).  \n",
    "Примеры:  \n",
    "```python\n",
    "safe_file_operation(\"nonexistent.txt\")\n",
    "``` \n",
    "\n"
   ]
  },
  {
   "cell_type": "code",
   "execution_count": null,
   "metadata": {},
   "outputs": [],
   "source": [
    "# ваш код тут\n",
    "def safe_file_operation(filename):\n",
    "    try:\n",
    "        with open(filename, 'r', encoding='utf-8') as f:\n",
    "            return f.read()\n",
    "    except FileNotFoundError:\n",
    "        print(f\"Файл '{filename}' не найден.\")\n"
   ]
  },
  {
   "cell_type": "markdown",
   "metadata": {},
   "source": [
    " \n",
    "\n",
    "Каждая задача сопровождается примерами использования и охватывает ключевые аспекты работы с байтами, кодировками и файлами в Python. Сложность задач равномерно распределена от среднего до высокого уровня."
   ]
  },
  {
   "cell_type": "code",
   "execution_count": null,
   "metadata": {},
   "outputs": [],
   "source": [
    "# ваш код тут"
   ]
  }
 ],
 "metadata": {
  "language_info": {
   "name": "python"
  }
 },
 "nbformat": 4,
 "nbformat_minor": 2
}
