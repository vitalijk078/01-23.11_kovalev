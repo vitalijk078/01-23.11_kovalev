{
 "cells": [
  {
   "cell_type": "markdown",
   "metadata": {},
   "source": [
    "### Задачи по теме **\"Классы и объекты\"**\n",
    "\n"
   ]
  },
  {
   "cell_type": "markdown",
   "metadata": {},
   "source": [
    "\n",
    "\n",
    "1. Создайте класс `Book` с атрибутами `title`, `author` и `pages`. Добавьте метод `info()`, который выводит информацию о книге в формате: \"Название: [title], Автор: [author], Страниц: [pages]\".\n",
    "\n"
   ]
  },
  {
   "cell_type": "code",
   "execution_count": null,
   "metadata": {},
   "outputs": [],
   "source": [
    "# ваш код тут\n",
    "class Book:\n",
    "    def __init__(self, title, author, pages):\n",
    "        self.title = title\n",
    "        self.author = author\n",
    "        self.pages = pages\n",
    "\n",
    "    def info(self):\n",
    "        print(f\"Название: {self.title}, Автор: {self.author}, Страниц: {self.pages}\")\n"
   ]
  },
  {
   "cell_type": "markdown",
   "metadata": {},
   "source": [
    "\n",
    "\n",
    "2. Реализуйте класс `Circle` с атрибутом `radius`. Добавьте методы `area()` и `circumference()`, возвращающие площадь и длину окружности соответственно.\n",
    "\n"
   ]
  },
  {
   "cell_type": "code",
   "execution_count": null,
   "metadata": {},
   "outputs": [],
   "source": [
    "# ваш код тут\n",
    "import math\n",
    "\n",
    "class Circle:\n",
    "    def __init__(self, radius):\n",
    "        self.radius = radius\n",
    "\n",
    "    def area(self):\n",
    "        return math.pi * self.radius ** 2\n",
    "\n",
    "    def circumference(self):\n",
    "        return 2 * math.pi * self.radius\n"
   ]
  },
  {
   "cell_type": "markdown",
   "metadata": {},
   "source": [
    "\n",
    "\n",
    "3. Создайте класс `Student` с атрибутами `name`, `age` и `grades` (список оценок). Добавьте метод `average_grade()`, вычисляющий средний балл студента.\n",
    "\n"
   ]
  },
  {
   "cell_type": "code",
   "execution_count": null,
   "metadata": {},
   "outputs": [],
   "source": [
    "# ваш код тут\n",
    "class Student:\n",
    "    def __init__(self, name, age, grades):\n",
    "        self.name = name\n",
    "        self.age = age\n",
    "        self.grades = grades\n",
    "\n",
    "    def average_grade(self):\n",
    "        return sum(self.grades) / len(self.grades)\n"
   ]
  },
  {
   "cell_type": "markdown",
   "metadata": {},
   "source": [
    "\n",
    "\n",
    "4. Напишите класс `BankAccount` с атрибутами `owner` и `balance`. Реализуйте методы `deposit()` и `withdraw()` для управления балансом.\n",
    "\n"
   ]
  },
  {
   "cell_type": "code",
   "execution_count": null,
   "metadata": {},
   "outputs": [],
   "source": [
    "# ваш код тут\n",
    "class BankAccount:\n",
    "    def __init__(self, owner, balance=0):\n",
    "        self.owner = owner\n",
    "        self.balance = balance\n",
    "\n",
    "    def deposit(self, amount):\n",
    "        self.balance += amount\n",
    "\n",
    "    def withdraw(self, amount):\n",
    "        if amount <= self.balance:\n",
    "            self.balance -= amount\n",
    "        else:\n",
    "            print(\"Недостаточно средств\")\n",
    "\n"
   ]
  },
  {
   "cell_type": "markdown",
   "metadata": {},
   "source": [
    "\n",
    "\n",
    "5. Создайте класс `Car` с атрибутами `brand`, `model` и `year`. Добавьте метод `age()`, который возвращает возраст автомобиля в годах.\n",
    "\n"
   ]
  },
  {
   "cell_type": "code",
   "execution_count": null,
   "metadata": {},
   "outputs": [],
   "source": [
    "# ваш код тут\n",
    "from datetime import datetime\n",
    "\n",
    "class Car:\n",
    "    def __init__(self, brand, model, year):\n",
    "        self.brand = brand\n",
    "        self.model = model\n",
    "        self.year = year\n",
    "\n",
    "    def age(self):\n",
    "        return datetime.now().year - self.year\n"
   ]
  },
  {
   "cell_type": "markdown",
   "metadata": {},
   "source": [
    "\n",
    "\n",
    "6. Реализуйте класс `Vector` с атрибутами `x` и `y`. Перегрузите оператор `+` для сложения векторов.\n",
    "\n"
   ]
  },
  {
   "cell_type": "code",
   "execution_count": null,
   "metadata": {},
   "outputs": [],
   "source": [
    "# ваш код тут\n",
    "class Vector:\n",
    "    def __init__(self, x, y):\n",
    "        self.x = x\n",
    "        self.y = y\n",
    "\n",
    "    def __add__(self, other):\n",
    "        return Vector(self.x + other.x, self.y + other.y)\n"
   ]
  },
  {
   "cell_type": "markdown",
   "metadata": {},
   "source": [
    "\n",
    "\n",
    "7. Создайте класс `Matrix` с атрибутом `data` (список списков). Перегрузите оператор `*` для умножения матриц.\n",
    "\n"
   ]
  },
  {
   "cell_type": "code",
   "execution_count": null,
   "metadata": {},
   "outputs": [],
   "source": [
    "# ваш код тут\n",
    "class Matrix:\n",
    "    def __init__(self, data):\n",
    "        self.data = data\n",
    "\n",
    "    def __mul__(self, other):\n",
    "        result = []\n",
    "        for i in range(len(self.data)):\n",
    "            row = []\n",
    "            for j in range(len(other.data[0])):\n",
    "                val = sum(self.data[i][k] * other.data[k][j] for k in range(len(other.data)))\n",
    "                row.append(val)\n",
    "            result.append(row)\n",
    "        return Matrix(result)\n"
   ]
  },
  {
   "cell_type": "markdown",
   "metadata": {},
   "source": [
    "\n",
    "\n",
    "8. Напишите класс `Fraction` для работы с дробями. Реализуйте методы для сложения, вычитания, умножения и деления дробей.\n",
    "\n"
   ]
  },
  {
   "cell_type": "code",
   "execution_count": null,
   "metadata": {},
   "outputs": [],
   "source": [
    "# ваш код тут\n",
    "from math import gcd\n",
    "\n",
    "class Fraction:\n",
    "    def __init__(self, numerator, denominator):\n",
    "        self.numerator = numerator\n",
    "        self.denominator = denominator\n",
    "        self._simplify()\n",
    "\n",
    "    def _simplify(self):\n",
    "        g = gcd(self.numerator, self.denominator)\n",
    "        self.numerator //= g\n",
    "        self.denominator //= g\n",
    "\n",
    "    def __add__(self, other):\n",
    "        num = self.numerator * other.denominator + other.numerator * self.denominator\n",
    "        den = self.denominator * other.denominator\n",
    "        return Fraction(num, den)\n",
    "\n",
    "    def __sub__(self, other):\n",
    "        num = self.numerator * other.denominator - other.numerator * self.denominator\n",
    "        den = self.denominator * other.denominator\n",
    "        return Fraction(num, den)\n",
    "\n",
    "    def __mul__(self, other):\n",
    "        return Fraction(self.numerator * other.numerator, self.denominator * other.denominator)\n",
    "\n",
    "    def __truediv__(self, other):\n",
    "        return Fraction(self.numerator * other.denominator, self.denominator * other.numerator)\n"
   ]
  },
  {
   "cell_type": "markdown",
   "metadata": {},
   "source": [
    "\n",
    "\n",
    "9. Создайте класс `Person` с атрибутами `name` и `birth_year`. Добавьте свойство `age`, которое вычисляет возраст человека.\n",
    "\n"
   ]
  },
  {
   "cell_type": "code",
   "execution_count": null,
   "metadata": {},
   "outputs": [],
   "source": [
    "# ваш код тут\n",
    "from datetime import date\n",
    "\n",
    "class Person:\n",
    "    def __init__(self, name, birth_year):\n",
    "        self.name = name\n",
    "        self.birth_year = birth_year\n",
    "\n",
    "    @property\n",
    "    def age(self):\n",
    "        return date.today().year - self.birth_year\n"
   ]
  },
  {
   "cell_type": "markdown",
   "metadata": {},
   "source": [
    "\n",
    "\n",
    "10. Реализуйте класс `Alarm` с атрибутами `time` и `message`. Добавьте метод `trigger()`, который выводит сообщение, если текущее время совпадает с `time`.\n",
    "\n"
   ]
  },
  {
   "cell_type": "code",
   "execution_count": null,
   "metadata": {},
   "outputs": [],
   "source": [
    "# ваш код тут\n",
    "from datetime import datetime\n",
    "\n",
    "class Alarm:\n",
    "    def __init__(self, time, message):\n",
    "        self.time = time\n",
    "        self.message = message\n",
    "\n",
    "    def trigger(self):\n",
    "        if datetime.now().strftime(\"%H:%M\") == self.time:\n",
    "            print(self.message)\n"
   ]
  },
  {
   "cell_type": "markdown",
   "metadata": {},
   "source": [
    "\n",
    "\n",
    "### Задачи по теме **\"Наследование\"**\n",
    "\n"
   ]
  },
  {
   "cell_type": "markdown",
   "metadata": {},
   "source": [
    "\n",
    "\n",
    "11. Создайте класс `Animal` с методом `speak()`. От него наследуйте классы `Dog` и `Cat`, переопределив метод `speak()` для каждого.\n",
    "\n"
   ]
  },
  {
   "cell_type": "code",
   "execution_count": null,
   "metadata": {},
   "outputs": [],
   "source": [
    "# ваш код тут\n",
    "class Animal:\n",
    "    def speak(self):\n",
    "        return \"...\"\n",
    "\n",
    "class Dog(Animal):\n",
    "    def speak(self):\n",
    "        return \"Woof!\"\n",
    "\n",
    "class Cat(Animal):\n",
    "    def speak(self):\n",
    "        return \"Meow!\"\n"
   ]
  },
  {
   "cell_type": "markdown",
   "metadata": {},
   "source": [
    "\n",
    "\n",
    "12. Реализуйте класс `Vehicle` с атрибутами `speed` и `fuel`. От него наследуйте классы `Car` и `Bicycle`, добавив уникальные атрибуты для каждого.\n",
    "\n"
   ]
  },
  {
   "cell_type": "code",
   "execution_count": null,
   "metadata": {},
   "outputs": [],
   "source": [
    "# ваш код тут\n",
    "class Vehicle:\n",
    "    def __init__(self, speed, fuel):\n",
    "        self.speed = speed\n",
    "        self.fuel = fuel\n",
    "\n",
    "class Car(Vehicle):\n",
    "    def __init__(self, speed, fuel, passengers):\n",
    "        super().__init__(speed, fuel)\n",
    "        self.passengers = passengers\n",
    "\n",
    "class Bicycle(Vehicle):\n",
    "    def __init__(self, speed, fuel, gear_count):\n",
    "        super().__init__(speed, fuel)\n",
    "        self.gear_count = gear_count\n"
   ]
  },
  {
   "cell_type": "markdown",
   "metadata": {},
   "source": [
    "\n",
    "\n",
    "13. Создайте класс `Employee` с атрибутами `name` и `salary`. От него наследуйте классы `Manager` и `Developer`, добавив специфичные методы.\n",
    "\n"
   ]
  },
  {
   "cell_type": "code",
   "execution_count": null,
   "metadata": {},
   "outputs": [],
   "source": [
    "# ваш код тут\n",
    "class Employee:\n",
    "    def __init__(self, name, salary):\n",
    "        self.name = name\n",
    "        self.salary = salary\n",
    "\n",
    "class Manager(Employee):\n",
    "    def manage(self):\n",
    "        return f\"{self.name} is managing.\"\n",
    "\n",
    "class Developer(Employee):\n",
    "    def code(self):\n",
    "        return f\"{self.name} is coding.\"\n"
   ]
  },
  {
   "cell_type": "markdown",
   "metadata": {},
   "source": [
    "\n",
    "\n",
    "14. Напишите класс `Shape` с методом `area()`. От него наследуйте классы `Rectangle` и `Circle`, реализовав расчет площади для каждой фигуры.\n",
    "\n"
   ]
  },
  {
   "cell_type": "code",
   "execution_count": null,
   "metadata": {},
   "outputs": [],
   "source": [
    "# ваш код тут\n",
    "class Shape:\n",
    "    def area(self):\n",
    "        pass\n",
    "\n",
    "class Rectangle(Shape):\n",
    "    def __init__(self, width, height):\n",
    "        self.width = width\n",
    "        self.height = height\n",
    "\n",
    "    def area(self):\n",
    "        return self.width * self.height\n",
    "\n",
    "class Circle(Shape):\n",
    "    def __init__(self, radius):\n",
    "        self.radius = radius\n",
    "\n",
    "    def area(self):\n",
    "        return math.pi * self.radius ** 2\n"
   ]
  },
  {
   "cell_type": "markdown",
   "metadata": {},
   "source": [
    "\n",
    "\n",
    "15. Создайте класс `ElectronicDevice` с атрибутом `power`. От него наследуйте классы `Smartphone` и `Laptop`, добавив уникальные методы.\n",
    "\n"
   ]
  },
  {
   "cell_type": "code",
   "execution_count": null,
   "metadata": {},
   "outputs": [],
   "source": [
    "# ваш код тут\n",
    "class ElectronicDevice:\n",
    "    def __init__(self, power):\n",
    "        self.power = power\n",
    "\n",
    "class Smartphone(ElectronicDevice):\n",
    "    def call(self):\n",
    "        return \"Calling...\"\n",
    "\n",
    "class Laptop(ElectronicDevice):\n",
    "    def compile_code(self):\n",
    "        return \"Compiling code...\"\n"
   ]
  },
  {
   "cell_type": "markdown",
   "metadata": {},
   "source": [
    "\n",
    "\n",
    "16. Реализуйте класс `Bird` с методом `fly()`. От него наследуйте классы `Penguin` и `Eagle`, переопределив метод `fly()` для пингвина.\n",
    "\n"
   ]
  },
  {
   "cell_type": "code",
   "execution_count": null,
   "metadata": {},
   "outputs": [],
   "source": [
    "# ваш код тут\n",
    "class Bird:\n",
    "    def fly(self):\n",
    "        return \"Flying...\"\n",
    "\n",
    "class Penguin(Bird):\n",
    "    def fly(self):\n",
    "        return \"Penguins can't fly.\"\n",
    "\n",
    "class Eagle(Bird):\n",
    "    def fly(self):\n",
    "        return \"Soaring high!\"\n"
   ]
  },
  {
   "cell_type": "markdown",
   "metadata": {},
   "source": [
    "\n",
    "\n",
    "17. Создайте класс `BankCard` с атрибутами `number` и `balance`. От него наследуйте классы `CreditCard` и `DebitCard`, добавив специфичные методы.\n",
    "\n"
   ]
  },
  {
   "cell_type": "code",
   "execution_count": null,
   "metadata": {},
   "outputs": [],
   "source": [
    "# ваш код тут\n",
    "class BankCard:\n",
    "    def __init__(self, number, balance):\n",
    "        self.number = number\n",
    "        self.balance = balance\n",
    "\n",
    "class CreditCard(BankCard):\n",
    "    def borrow(self, amount):\n",
    "        self.balance -= amount\n",
    "\n",
    "class DebitCard(BankCard):\n",
    "    def pay(self, amount):\n",
    "        self.balance -= amount\n"
   ]
  },
  {
   "cell_type": "markdown",
   "metadata": {},
   "source": [
    "\n",
    "\n",
    "18. Напишите класс `User` с атрибутами `login` и `password`. От него наследуйте классы `Admin` и `Guest`, расширив функциональность.\n",
    "\n"
   ]
  },
  {
   "cell_type": "code",
   "execution_count": null,
   "metadata": {},
   "outputs": [],
   "source": [
    "# ваш код тут\n",
    "class User:\n",
    "    def __init__(self, login, password):\n",
    "        self.login = login\n",
    "        self.password = password\n",
    "\n",
    "class Admin(User):\n",
    "    def access_panel(self):\n",
    "        return \"Admin panel accessed.\"\n",
    "\n",
    "class Guest(User):\n",
    "    def view_content(self):\n",
    "        return \"Viewing content...\"\n"
   ]
  },
  {
   "cell_type": "markdown",
   "metadata": {},
   "source": [
    "\n",
    "\n",
    "19. Создайте класс `GameCharacter` с атрибутами `health` и `damage`. От него наследуйте классы `Warrior` и `Mage`, добавив уникальные способности.\n",
    "\n"
   ]
  },
  {
   "cell_type": "code",
   "execution_count": null,
   "metadata": {},
   "outputs": [],
   "source": [
    "# ваш код тут\n",
    "class GameCharacter:\n",
    "    def __init__(self, health, damage):\n",
    "        self.health = health\n",
    "        self.damage = damage\n",
    "\n",
    "class Warrior(GameCharacter):\n",
    "    def slash(self):\n",
    "        return self.damage * 2\n",
    "\n",
    "class Mage(GameCharacter):\n",
    "    def cast_spell(self):\n",
    "        return self.damage + 10\n"
   ]
  },
  {
   "cell_type": "markdown",
   "metadata": {},
   "source": [
    "\n",
    "\n",
    "20. Реализуйте класс `Publication` с атрибутами `title` и `author`. От него наследуйте классы `Book` и `Magazine`, добавив специфичные атрибуты.\n",
    "\n"
   ]
  },
  {
   "cell_type": "code",
   "execution_count": null,
   "metadata": {},
   "outputs": [],
   "source": [
    "# ваш код тут\n",
    "class Publication:\n",
    "    def __init__(self, title, author):\n",
    "        self.title = title\n",
    "        self.author = author\n",
    "\n",
    "class Book(Publication):\n",
    "    def __init__(self, title, author, pages):\n",
    "        super().__init__(title, author)\n",
    "        self.pages = pages\n",
    "\n",
    "class Magazine(Publication):\n",
    "    def __init__(self, title, author, issue):\n",
    "        super().__init__(title, author)\n",
    "        self.issue = issue\n"
   ]
  },
  {
   "cell_type": "markdown",
   "metadata": {},
   "source": [
    "\n",
    "\n",
    "### Задачи по теме **\"Инкапсуляция\"**\n",
    "\n"
   ]
  },
  {
   "cell_type": "markdown",
   "metadata": {},
   "source": [
    "\n",
    "\n",
    "21. Создайте класс `SecretData` с приватным атрибутом `__secret`. Добавьте методы для установки и получения значения с проверкой доступа.\n",
    "\n"
   ]
  },
  {
   "cell_type": "code",
   "execution_count": null,
   "metadata": {},
   "outputs": [],
   "source": [
    "# ваш код тут\n",
    "class SecretData:\n",
    "    def __init__(self):\n",
    "        self.__secret = None\n",
    "\n",
    "    def set_secret(self, value):\n",
    "        self.__secret = value\n",
    "\n",
    "    def get_secret(self):\n",
    "        return self.__secret\n"
   ]
  },
  {
   "cell_type": "markdown",
   "metadata": {},
   "source": [
    "\n",
    "\n",
    "22. Реализуйте класс `BankAccount` с защищенным атрибутом `_balance`. Добавьте методы для управления балансом с проверкой операций.\n",
    "\n"
   ]
  },
  {
   "cell_type": "code",
   "execution_count": null,
   "metadata": {},
   "outputs": [],
   "source": [
    "# ваш код тут\n",
    "class BankAccount:\n",
    "    def __init__(self):\n",
    "        self._balance = 0\n",
    "\n",
    "    def deposit(self, amount):\n",
    "        if amount > 0:\n",
    "            self._balance += amount\n",
    "\n",
    "    def withdraw(self, amount):\n",
    "        if 0 < amount <= self._balance:\n",
    "            self._balance -= amount\n"
   ]
  },
  {
   "cell_type": "markdown",
   "metadata": {},
   "source": [
    "\n",
    "\n",
    "23. Создайте класс `SecureFile` с приватными методами `__read()` и `__write()`. Реализуйте публичные методы для безопасной работы с файлом.\n",
    "\n"
   ]
  },
  {
   "cell_type": "code",
   "execution_count": null,
   "metadata": {},
   "outputs": [],
   "source": [
    "# ваш код тут\n",
    "class SecureFile:\n",
    "    def __read(self):\n",
    "        print(\"Reading...\")\n",
    "\n",
    "    def __write(self):\n",
    "        print(\"Writing...\")\n",
    "\n",
    "    def access_file(self, mode):\n",
    "        if mode == \"read\":\n",
    "            self.__read()\n",
    "        elif mode == \"write\":\n",
    "            self.__write()\n"
   ]
  },
  {
   "cell_type": "markdown",
   "metadata": {},
   "source": [
    "\n",
    "\n",
    "24. Напишите класс `Person` с защищенным атрибутом `_age`. Добавьте свойство `age` с валидацией при установке значения.\n",
    "\n"
   ]
  },
  {
   "cell_type": "code",
   "execution_count": null,
   "metadata": {},
   "outputs": [],
   "source": [
    "# ваш код тут\n",
    "class Person:\n",
    "    def __init__(self):\n",
    "        self._age = 0\n",
    "\n",
    "    @property\n",
    "    def age(self):\n",
    "        return self._age\n",
    "\n",
    "    @age.setter\n",
    "    def age(self, value):\n",
    "        if 0 <= value <= 120:\n",
    "            self._age = value\n"
   ]
  },
  {
   "cell_type": "markdown",
   "metadata": {},
   "source": [
    "\n",
    "\n",
    "25. Создайте класс `PasswordManager` с приватным атрибутом `__passwords`. Реализуйте методы для добавления и получения паролей с шифрованием.\n",
    "\n"
   ]
  },
  {
   "cell_type": "code",
   "execution_count": null,
   "metadata": {},
   "outputs": [],
   "source": [
    "# ваш код тут\n",
    "import base64\n",
    "\n",
    "class PasswordManager:\n",
    "    def __init__(self):\n",
    "        self.__passwords = {}\n",
    "\n",
    "    def add_password(self, service, password):\n",
    "        encoded = base64.b64encode(password.encode()).decode()\n",
    "        self.__passwords[service] = encoded\n",
    "\n",
    "    def get_password(self, service):\n",
    "        encoded = self.__passwords.get(service)\n",
    "        return base64.b64decode(encoded).decode() if encoded else None\n"
   ]
  },
  {
   "cell_type": "markdown",
   "metadata": {},
   "source": [
    "\n",
    "\n",
    "### Задачи по теме **\"Полиморфизм\"**\n",
    "\n"
   ]
  },
  {
   "cell_type": "code",
   "execution_count": null,
   "metadata": {},
   "outputs": [],
   "source": [
    "# ваш код тут\n",
    "class Dog:\n",
    "    def sound(self):\n",
    "        return \"Woof\"\n",
    "\n",
    "class Cat:\n",
    "    def sound(self):\n",
    "        return \"Meow\"\n",
    "\n",
    "def make_sound(animal):\n",
    "    print(animal.sound())\n"
   ]
  },
  {
   "cell_type": "markdown",
   "metadata": {},
   "source": [
    "\n",
    "\n",
    "26. Создайте классы `Dog` и `Cat` с методом `sound()`. Напишите функцию `make_sound()`, которая вызывает этот метод для любого животного.\n",
    "\n"
   ]
  },
  {
   "cell_type": "code",
   "execution_count": null,
   "metadata": {},
   "outputs": [],
   "source": [
    "# ваш код тут\n",
    "class Square:\n",
    "    def __init__(self, side):\n",
    "        self.side = side\n",
    "\n",
    "    def area(self):\n",
    "        return self.side ** 2\n",
    "\n",
    "class Circle:\n",
    "    def __init__(self, radius):\n",
    "        self.radius = radius\n",
    "\n",
    "    def area(self):\n",
    "        return math.pi * self.radius ** 2\n",
    "\n",
    "def print_area(shape):\n",
    "    print(shape.area())\n"
   ]
  },
  {
   "cell_type": "markdown",
   "metadata": {},
   "source": [
    "\n",
    "\n",
    "27. Реализуйте классы `Square` и `Circle` с методом `area()`. Напишите функцию `print_area()`, которая работает с любым объектом, имеющим этот метод.\n",
    "\n"
   ]
  },
  {
   "cell_type": "code",
   "execution_count": null,
   "metadata": {},
   "outputs": [],
   "source": [
    "# ваш код тут\n",
    "class EmailNotifier:\n",
    "    def send(self):\n",
    "        return \"Email sent\"\n",
    "\n",
    "class SMSNotifier:\n",
    "    def send(self):\n",
    "        return \"SMS sent\"\n",
    "\n",
    "def send_notification(notifier):\n",
    "    print(notifier.send())\n"
   ]
  },
  {
   "cell_type": "markdown",
   "metadata": {},
   "source": [
    "\n",
    "\n",
    "28. Создайте классы `EmailNotifier` и `SMSNotifier` с методом `send()`. Реализуйте функцию `send_notification()`, принимающую любой нотификатор.\n",
    "\n"
   ]
  },
  {
   "cell_type": "code",
   "execution_count": null,
   "metadata": {},
   "outputs": [],
   "source": [
    "# ваш код тут\n",
    "class EmailNotifier:\n",
    "    def send(self):\n",
    "        return \"Email sent\"\n",
    "\n",
    "class SMSNotifier:\n",
    "    def send(self):\n",
    "        return \"SMS sent\"\n",
    "\n",
    "def send_notification(notifier):\n",
    "    print(notifier.send())\n"
   ]
  },
  {
   "cell_type": "markdown",
   "metadata": {},
   "source": [
    "\n",
    "\n",
    "### Задачи по теме **\"Магические методы\"**\n",
    "\n"
   ]
  },
  {
   "cell_type": "code",
   "execution_count": null,
   "metadata": {},
   "outputs": [],
   "source": [
    "# ваш код тут\n"
   ]
  },
  {
   "cell_type": "markdown",
   "metadata": {},
   "source": [
    "\n",
    "\n",
    "29. Создайте класс `ComplexNumber` и перегрузите операторы `+`, `-`, `*` для работы с комплексными числами.\n",
    "\n"
   ]
  },
  {
   "cell_type": "code",
   "execution_count": null,
   "metadata": {},
   "outputs": [],
   "source": [
    "# ваш код тут\n",
    "class ComplexNumber:\n",
    "    def __init__(self, real, imag):\n",
    "        self.real = real\n",
    "        self.imag = imag\n",
    "\n",
    "    def __add__(self, other):\n",
    "        return ComplexNumber(self.real + other.real, self.imag + other.imag)\n",
    "\n",
    "    def __sub__(self, other):\n",
    "        return ComplexNumber(self.real - other.real, self.imag - other.imag)\n",
    "\n",
    "    def __mul__(self, other):\n",
    "        r = self.real * other.real - self.imag * other.imag\n",
    "        i = self.real * other.imag + self.imag * other.real\n",
    "        return ComplexNumber(r, i)\n"
   ]
  },
  {
   "cell_type": "markdown",
   "metadata": {},
   "source": [
    "\n",
    "\n",
    "30. Реализуйте класс `Playlist` с магическими методами `__len__`, `__getitem__` и `__contains__` для работы с списком песен.\n",
    "\n"
   ]
  },
  {
   "cell_type": "code",
   "execution_count": null,
   "metadata": {},
   "outputs": [],
   "source": [
    "# ваш код тут\n",
    "class Playlist:\n",
    "    def __init__(self, songs):\n",
    "        self.songs = songs\n",
    "\n",
    "    def __len__(self):\n",
    "        return len(self.songs)\n",
    "\n",
    "    def __getitem__(self, index):\n",
    "        return self.songs[index]\n",
    "\n",
    "    def __contains__(self, song):\n",
    "        return song in self.songs\n"
   ]
  },
  {
   "cell_type": "markdown",
   "metadata": {},
   "source": [
    " \n",
    "\n",
    "Каждая задача соответствует материалу из файлов и охватывает ключевые аспекты ООП в Python. Сложность увеличивается от базового создания классов до работы с магическими методами и сложными паттернами."
   ]
  },
  {
   "cell_type": "code",
   "execution_count": null,
   "metadata": {},
   "outputs": [],
   "source": [
    "# ваш код тут"
   ]
  }
 ],
 "metadata": {
  "language_info": {
   "name": "python"
  }
 },
 "nbformat": 4,
 "nbformat_minor": 2
}
