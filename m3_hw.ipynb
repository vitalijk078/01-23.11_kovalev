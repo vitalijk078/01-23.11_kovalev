{
 "cells": [
  {
   "cell_type": "markdown",
   "metadata": {},
   "source": [
    "### Задачи по теме **\"Встроенные функции\"**\n",
    "\n",
    "#### Средняя задача 1  \n",
    "Напишите функцию `check_any_true`, которая принимает список списков и возвращает `True`, если хотя бы в одном из вложенных списков все элементы равны `True`. Используйте функции `any()` и `all()`.  \n",
    "**Пример:**  \n",
    "```python\n",
    "print(check_any_true([[True, True], [False, False], [True, False]]))  # True\n",
    "print(check_any_true([[False, False], [False, False]]))               # False\n",
    "```\n",
    "\n"
   ]
  },
  {
   "cell_type": "code",
   "execution_count": null,
   "metadata": {},
   "outputs": [],
   "source": [
    "# ваш код тут\n",
    "def check_any_true(list_of_lists):\n",
    "    return any(all(item for item in sublist) for sublist in list_of_lists)\n"
   ]
  },
  {
   "cell_type": "markdown",
   "metadata": {},
   "source": [
    "\n",
    "\n",
    "#### Средняя задача 2  \n",
    "Создайте функцию `validate_types`, которая принимает список объектов и список типов данных. Функция должна вернуть `True`, если все объекты в списке соответствуют одному из указанных типов, иначе `False`. Используйте `isinstance()`.  \n",
    "**Пример:**  \n",
    "```python\n",
    "print(validate_types([1, \"hello\", 3.14], (int, str, float)))  # True\n",
    "print(validate_types([1, \"hello\", [1, 2]], (int, str)))       # False\n",
    "```\n",
    "\n"
   ]
  },
  {
   "cell_type": "code",
   "execution_count": null,
   "metadata": {},
   "outputs": [],
   "source": [
    "# ваш код тут\n",
    "def validate_types(objects, types):\n",
    "    return all(isinstance(obj, types) for obj in objects)\n"
   ]
  },
  {
   "cell_type": "markdown",
   "metadata": {},
   "source": [
    "\n",
    "\n",
    "#### Сложная задача 3  \n",
    "Реализуйте функцию `compare_objects`, которая принимает два объекта и проверяет их на идентичность с помощью `is` и на равенство содержимого с помощью `==`. Верните строку с результатами проверки.  \n",
    "**Пример:**  \n",
    "```python\n",
    "a = [1, 2, 3]\n",
    "b = [1, 2, 3]\n",
    "c = a\n",
    "print(compare_objects(a, b))  # \"Содержимое одинаково, но объекты разные\"\n",
    "print(compare_objects(a, c))  # \"Объекты идентичны\"\n",
    "```\n",
    "\n"
   ]
  },
  {
   "cell_type": "code",
   "execution_count": null,
   "metadata": {},
   "outputs": [],
   "source": [
    "# ваш код тут\n",
    "def compare_objects(obj1, obj2):\n",
    "    if obj1 is obj2:\n",
    "        return \"Объекты идентичны\"\n",
    "    elif obj1 == obj2:\n",
    "        return \"Содержимое одинаково, но объекты разные\"\n",
    "    else:\n",
    "        return \"Объекты разные\"\n"
   ]
  },
  {
   "cell_type": "markdown",
   "metadata": {},
   "source": [
    "\n",
    "\n",
    "#### Сложная задача 4  \n",
    "Напишите функцию `get_object_info`, которая принимает объект и возвращает список всех его атрибутов и методов с помощью `dir()`. Отфильтруйте только те атрибуты, которые не начинаются с \"__\".  \n",
    "**Пример:**  \n",
    "```python\n",
    "print(get_object_info([]))  # ['append', 'clear', 'copy', ...]\n",
    "```\n",
    "\n"
   ]
  },
  {
   "cell_type": "code",
   "execution_count": null,
   "metadata": {},
   "outputs": [],
   "source": [
    "# ваш код тут\n",
    "def get_object_info(obj):\n",
    "    return [attr for attr in dir(obj) if not attr.startswith(\"__\")]\n"
   ]
  },
  {
   "cell_type": "markdown",
   "metadata": {},
   "source": [
    "\n",
    "\n",
    "#### Сложная задача 5  \n",
    "Создайте функцию `check_all_true`, которая принимает список списков и возвращает `True`, если во всех вложенных списках хотя бы один элемент равен `True`. Используйте `any()` и `all()`.  \n",
    "**Пример:**  \n",
    "```python\n",
    "print(check_all_true([[True, False], [False, False], [True, True]]))  # True\n",
    "print(check_all_true([[False, False], [False, False]]))               # False\n",
    "```\n",
    "\n"
   ]
  },
  {
   "cell_type": "code",
   "execution_count": null,
   "metadata": {},
   "outputs": [],
   "source": [
    "# ваш код тут\n",
    "def check_all_true(list_of_lists):\n",
    "    return all(any(item for item in sublist) for sublist in list_of_lists)\n"
   ]
  },
  {
   "cell_type": "markdown",
   "metadata": {},
   "source": [
    "\n",
    "\n",
    "### Задачи по теме **\"Рекурсии\"**\n",
    "\n",
    "#### Средняя задача 1  \n",
    "Напишите рекурсивную функцию `power`, которая принимает два числа: `base` и `exponent`, и возвращает результат возведения `base` в степень `exponent`.  \n",
    "**Пример:**  \n",
    "```python\n",
    "print(power(2, 3))  # 8\n",
    "print(power(5, 0))  # 1\n",
    "```\n",
    "\n"
   ]
  },
  {
   "cell_type": "code",
   "execution_count": null,
   "metadata": {},
   "outputs": [],
   "source": [
    "# ваш код тут\n",
    "def power(base, exponent):\n",
    "    if exponent == 0:\n",
    "        return 1\n",
    "    return base * power(base, exponent - 1)\n"
   ]
  },
  {
   "cell_type": "markdown",
   "metadata": {},
   "source": [
    "\n",
    "\n",
    "#### Средняя задача 2  \n",
    "Реализуйте рекурсивную функцию `count_down`, которая принимает число `n` и выводит числа от `n` до 0.  \n",
    "**Пример:**  \n",
    "```python\n",
    "count_down(5)  # 5, 4, 3, 2, 1, 0\n",
    "```\n",
    "\n"
   ]
  },
  {
   "cell_type": "code",
   "execution_count": null,
   "metadata": {},
   "outputs": [],
   "source": [
    "# ваш код тут\n",
    "def count_down(n):\n",
    "    if n < 0:\n",
    "        return\n",
    "    print(n)\n",
    "    count_down(n - 1)\n"
   ]
  },
  {
   "cell_type": "markdown",
   "metadata": {},
   "source": [
    "\n",
    "\n",
    "#### Сложная задача 3  \n",
    "Напишите рекурсивную функцию `find_max`, которая принимает список чисел и возвращает максимальное значение в списке.  \n",
    "**Пример:**  \n",
    "```python\n",
    "print(find_max([1, 5, 3, 9, 2]))  # 9\n",
    "```\n",
    "\n"
   ]
  },
  {
   "cell_type": "code",
   "execution_count": null,
   "metadata": {},
   "outputs": [],
   "source": [
    "# ваш код тут\n",
    "def find_max(lst):\n",
    "    if len(lst) == 1:\n",
    "        return lst[0]\n",
    "    return max(lst[0], find_max(lst[1:]))\n"
   ]
  },
  {
   "cell_type": "markdown",
   "metadata": {},
   "source": [
    "\n",
    "\n",
    "#### Сложная задача 4  \n",
    "Реализуйте рекурсивную функцию `reverse_string`, которая принимает строку и возвращает её в обратном порядке.  \n",
    "**Пример:**  \n",
    "```python\n",
    "print(reverse_string(\"hello\"))  # \"olleh\"\n",
    "```\n",
    "\n"
   ]
  },
  {
   "cell_type": "code",
   "execution_count": null,
   "metadata": {},
   "outputs": [],
   "source": [
    "# ваш код тут\n",
    "def reverse_string(s):\n",
    "    if len(s) <= 1:\n",
    "        return s\n",
    "    return reverse_string(s[1:]) + s[0]\n"
   ]
  },
  {
   "cell_type": "markdown",
   "metadata": {},
   "source": [
    "\n",
    "\n",
    "#### Сложная задача 5  \n",
    "Создайте рекурсивную функцию `flatten_list`, которая принимает вложенный список и возвращает одномерный список.  \n",
    "**Пример:**  \n",
    "```python\n",
    "print(flatten_list([1, [2, [3, 4], 5]))  # [1, 2, 3, 4, 5]\n",
    "```\n",
    "\n"
   ]
  },
  {
   "cell_type": "code",
   "execution_count": null,
   "metadata": {},
   "outputs": [],
   "source": [
    "# ваш код тут\n",
    "def flatten_list(lst):\n",
    "    result = []\n",
    "    for item in lst:\n",
    "        if isinstance(item, list):\n",
    "            result.extend(flatten_list(item))\n",
    "        else:\n",
    "            result.append(item)\n",
    "    return result\n"
   ]
  },
  {
   "cell_type": "markdown",
   "metadata": {},
   "source": [
    "\n",
    "\n",
    "### Задачи по теме **\"Области видимости\"**\n",
    "\n",
    "#### Средняя задача 1  \n",
    "Напишите функцию `outer`, которая содержит переменную `x = 10`, и вложенную функцию `inner`, которая изменяет `x` на `20` с помощью `nonlocal`. Верните значение `x` после вызова `inner`.  \n",
    "**Пример:**  \n",
    "```python\n",
    "print(outer())  # 20\n",
    "```\n",
    "\n"
   ]
  },
  {
   "cell_type": "code",
   "execution_count": null,
   "metadata": {},
   "outputs": [],
   "source": [
    "# ваш код тут\n",
    "def outer():\n",
    "    x = 10\n",
    "    def inner():\n",
    "        nonlocal x\n",
    "        x = 20\n",
    "    inner()\n",
    "    return x\n"
   ]
  },
  {
   "cell_type": "markdown",
   "metadata": {},
   "source": [
    "\n",
    "\n",
    "#### Средняя задача 2  \n",
    "Создайте функцию `global_counter`, которая использует глобальную переменную `counter` и увеличивает её значение на 1 при каждом вызове.  \n",
    "**Пример:**  \n",
    "```python\n",
    "global_counter()\n",
    "global_counter()\n",
    "print(counter)  # 2\n",
    "```\n",
    "\n"
   ]
  },
  {
   "cell_type": "code",
   "execution_count": null,
   "metadata": {},
   "outputs": [],
   "source": [
    "# ваш код тут\n",
    "counter = 0\n",
    "\n",
    "def global_counter():\n",
    "    global counter\n",
    "    counter += 1\n"
   ]
  },
  {
   "cell_type": "markdown",
   "metadata": {},
   "source": [
    "\n",
    "\n",
    "#### Сложная задача 3  \n",
    "Реализуйте функцию `nested_scopes`, которая содержит три уровня вложенности: глобальную, локальную и объемлющую области видимости. В каждой области создайте переменную с именем `x` и выведите их значения.  \n",
    "**Пример:**  \n",
    "```python\n",
    "nested_scopes()  # Глобальная x: 10, Локальная x: 20, Объемлящая x: 30\n",
    "```\n",
    "\n"
   ]
  },
  {
   "cell_type": "code",
   "execution_count": null,
   "metadata": {},
   "outputs": [],
   "source": [
    "# ваш код тут\n",
    "x = 10  # глобальная\n",
    "\n",
    "def nested_scopes():\n",
    "    x = 30  # объемлющая\n",
    "    def inner():\n",
    "        x = 20  # локальная\n",
    "        print(f\"Глобальная x: {globals()['x']}\")\n",
    "        print(f\"Объемлящая x: {nested_scopes.__closure__[0].cell_contents}\")\n",
    "        print(f\"Локальная x: {x}\")\n",
    "    inner()\n"
   ]
  },
  {
   "cell_type": "markdown",
   "metadata": {},
   "source": [
    "\n",
    "\n",
    "#### Сложная задача 4  \n",
    "Напишите функцию `modify_global`, которая принимает список и добавляет в него элемент, используя глобальную переменную.  \n",
    "**Пример:**  \n",
    "```python\n",
    "my_list = [1, 2, 3]\n",
    "modify_global(4)\n",
    "print(my_list)  # [1, 2, 3, 4]\n",
    "```\n",
    "\n"
   ]
  },
  {
   "cell_type": "code",
   "execution_count": null,
   "metadata": {},
   "outputs": [],
   "source": [
    "# ваш код тут\n",
    "my_list = [1, 2, 3]\n",
    "\n",
    "def modify_global(value):\n",
    "    global my_list\n",
    "    my_list.append(value)\n"
   ]
  },
  {
   "cell_type": "markdown",
   "metadata": {},
   "source": [
    "\n",
    "\n",
    "#### Сложная задача 5  \n",
    "Создайте функцию `scope_test`, которая использует `locals()` и `globals()` для вывода всех переменных в локальной и глобальной областях видимости.  \n",
    "**Пример:**  \n",
    "```python\n",
    "scope_test()  # Вывод локальных и глобальных переменных\n",
    "```\n",
    "\n"
   ]
  },
  {
   "cell_type": "code",
   "execution_count": null,
   "metadata": {},
   "outputs": [],
   "source": [
    "# ваш код тут\n",
    "a = 1\n",
    "b = 2\n",
    "\n",
    "def scope_test():\n",
    "    x = 10\n",
    "    y = 20\n",
    "    print(\"Локальные переменные:\", locals())\n",
    "    print(\"Глобальные переменные:\", {k: v for k, v in globals().items() if not k.startswith(\"__\")})\n"
   ]
  },
  {
   "cell_type": "markdown",
   "metadata": {},
   "source": [
    "\n",
    "\n",
    "Каждая задача соответствует уровню сложности и охватывает ключевые аспекты темы, не выходя за рамки описанных в файлах конструкций."
   ]
  },
  {
   "cell_type": "code",
   "execution_count": null,
   "metadata": {},
   "outputs": [],
   "source": [
    "# ваш код тут"
   ]
  }
 ],
 "metadata": {
  "language_info": {
   "name": "python"
  }
 },
 "nbformat": 4,
 "nbformat_minor": 2
}
