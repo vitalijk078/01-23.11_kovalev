{
 "cells": [
  {
   "cell_type": "markdown",
   "metadata": {},
   "source": [
    "### Задачи по теме **\"Модули и пакеты\"**\n",
    "\n"
   ]
  },
  {
   "cell_type": "markdown",
   "metadata": {},
   "source": [
    "\n",
    "\n",
    "1. **Импорт конкретной функции**  \n",
    "Создайте модуль `math_operations.py` с функциями `add`, `subtract`, `multiply`, `divide`. Импортируйте только функцию `add` в основной файл и используйте её для сложения двух чисел.  \n",
    "**Пример вызова:**  \n",
    "```python\n",
    "from math_operations import add\n",
    "print(add(5, 3))  # 8\n",
    "```\n",
    "\n"
   ]
  },
  {
   "cell_type": "code",
   "execution_count": null,
   "metadata": {},
   "outputs": [],
   "source": [
    "# ваш код тут\n",
    "def add(a, b):\n",
    "    return a + b\n",
    "\n",
    "def subtract(a, b):\n",
    "    return a - b\n",
    "\n",
    "def multiply(a, b):\n",
    "    return a * b\n",
    "\n",
    "def divide(a, b):\n",
    "    return a / b\n"
   ]
  },
  {
   "cell_type": "markdown",
   "metadata": {},
   "source": [
    "\n",
    "\n",
    "2. **Импорт с переименованием модуля**  \n",
    "Напишите скрипт, который импортирует модуль `random` и использует функцию `randint` для генерации случайного числа от 1 до 100. Переименуйте модуль при импорте в `rnd`.  \n",
    "**Пример вызова:**  \n",
    "```python\n",
    "import random as rnd\n",
    "print(rnd.randint(1, 100))\n",
    "```\n",
    "\n"
   ]
  },
  {
   "cell_type": "code",
   "execution_count": null,
   "metadata": {},
   "outputs": [],
   "source": [
    "# ваш код тут\n",
    "import random as rnd\n",
    "print(rnd.randint(1, 100))\n"
   ]
  },
  {
   "cell_type": "markdown",
   "metadata": {},
   "source": [
    "\n",
    "\n",
    "3. **Импорт из подпакета**  \n",
    "Создайте пакет `utils` с модулем `string_utils.py`, содержащим функции `reverse_string` и `capitalize_string`. Импортируйте обе функции в основной файл и примените их к строке \"hello\".  \n",
    "**Пример вызова:**  \n",
    "```python\n",
    "from utils.string_utils import reverse_string, capitalize_string\n",
    "print(reverse_string(\"hello\"))  # \"olleh\"\n",
    "print(capitalize_string(\"hello\"))  # \"Hello\"\n",
    "```\n",
    "\n"
   ]
  },
  {
   "cell_type": "code",
   "execution_count": null,
   "metadata": {},
   "outputs": [],
   "source": [
    "# ваш код тут\n",
    "def reverse_string(s):\n",
    "    return s[::-1]\n",
    "\n",
    "def capitalize_string(s):\n",
    "    return s.capitalize()\n"
   ]
  },
  {
   "cell_type": "markdown",
   "metadata": {},
   "source": [
    "\n",
    "\n",
    "4. **Абсолютный импорт из пакета**  \n",
    "В пакете `shapes` создайте модуль `circle.py` с функцией `calculate_area`, которая принимает радиус и возвращает площадь круга. Импортируйте эту функцию в основной файл, используя абсолютный путь.  \n",
    "**Пример вызова:**  \n",
    "```python\n",
    "from shapes.circle import calculate_area\n",
    "print(calculate_area(5))  # ~78.54\n",
    "```\n",
    "\n"
   ]
  },
  {
   "cell_type": "code",
   "execution_count": null,
   "metadata": {},
   "outputs": [],
   "source": [
    "# ваш код тут\n",
    "import math\n",
    "\n",
    "def calculate_area(radius):\n",
    "    return math.pi * radius ** 2\n"
   ]
  },
  {
   "cell_type": "markdown",
   "metadata": {},
   "source": [
    "\n",
    "\n",
    "5. **Импорт функции с побочным эффектом**  \n",
    "Напишите модуль `logger.py` с функцией `log_message`, которая принимает строку и записывает её в файл `log.txt`. Импортируйте эту функцию в основной файл и вызовите её с произвольным сообщением.  \n",
    "**Пример вызова:**  \n",
    "```python\n",
    "from logger import log_message\n",
    "log_message(\"Test log entry\")\n",
    "```\n",
    "\n"
   ]
  },
  {
   "cell_type": "code",
   "execution_count": null,
   "metadata": {},
   "outputs": [],
   "source": [
    "# ваш код тут\n",
    "def log_message(message):\n",
    "    with open(\"log.txt\", \"a\") as f:\n",
    "        f.write(message + \"\\n\")\n"
   ]
  },
  {
   "cell_type": "markdown",
   "metadata": {},
   "source": [
    "\n",
    "\n",
    "6. **Импорт нескольких модулей из пакета**  \n",
    "Создайте пакет `converter` с модулями:  \n",
    "- `temperature.py` (функции `celsius_to_fahrenheit`, `fahrenheit_to_celsius`)  \n",
    "- `distance.py` (функции `miles_to_kilometers`, `kilometers_to_miles`).  \n",
    "Импортируйте все функции в основной файл и используйте их.  \n",
    "**Пример вызова:**  \n",
    "```python\n",
    "from converter.temperature import *\n",
    "from converter.distance import *\n",
    "print(celsius_to_fahrenheit(25))  # 77.0\n",
    "print(miles_to_kilometers(10))  # ~16.09\n",
    "```\n",
    "\n"
   ]
  },
  {
   "cell_type": "code",
   "execution_count": null,
   "metadata": {},
   "outputs": [],
   "source": [
    "# ваш код тут\n",
    "def celsius_to_fahrenheit(c):\n",
    "    return c * 9/5 + 32\n",
    "\n",
    "def fahrenheit_to_celsius(f):\n",
    "    return (f - 32) * 5/9\n"
   ]
  },
  {
   "cell_type": "markdown",
   "metadata": {},
   "source": [
    "\n",
    "\n",
    "7. **Импорт всех функций из модуля**  \n",
    "Напишите скрипт, который импортирует все функции из модуля `math` с помощью `from math import *` и использует их для вычисления:  \n",
    "- квадратного корня числа 16  \n",
    "- синуса угла 30 градусов  \n",
    "**Пример вызова:**  \n",
    "```python\n",
    "from math import *\n",
    "print(sqrt(16))  # 4.0\n",
    "print(sin(radians(30)))  # 0.5\n",
    "```\n",
    "\n"
   ]
  },
  {
   "cell_type": "code",
   "execution_count": null,
   "metadata": {},
   "outputs": [],
   "source": [
    "# ваш код тут\n",
    "from math import *\n",
    "\n",
    "print(sqrt(16))             # 4.0\n",
    "print(sin(radians(30)))     # 0.5\n"
   ]
  },
  {
   "cell_type": "markdown",
   "metadata": {},
   "source": [
    "\n",
    "\n",
    "8. **Импорт конфигурационных переменных**  \n",
    "Создайте модуль `config.py` с переменными:  \n",
    "```python\n",
    "DEBUG_MODE = True\n",
    "MAX_RETRIES = 3\n",
    "```  \n",
    "Импортируйте их в основной файл и используйте в условиях.  \n",
    "**Пример вызова:**  \n",
    "```python\n",
    "from config import DEBUG_MODE, MAX_RETRIES\n",
    "if DEBUG_MODE:\n",
    "    print(f\"Max retries: {MAX_RETRIES}\")\n",
    "```\n",
    "\n"
   ]
  },
  {
   "cell_type": "code",
   "execution_count": null,
   "metadata": {},
   "outputs": [],
   "source": [
    "# ваш код тут\n",
    "DEBUG_MODE = True\n",
    "MAX_RETRIES = 3\n"
   ]
  },
  {
   "cell_type": "markdown",
   "metadata": {},
   "source": [
    "\n",
    "\n",
    "9. **Импорт с переименованием функции**  \n",
    "В пакете `network` создайте модуль `request.py` с функцией `fetch_data` (имитирует API-запрос). Импортируйте её в основной файл, переименовав в `get_data`.  \n",
    "**Пример вызова:**  \n",
    "```python\n",
    "from network.request import fetch_data as get_data\n",
    "print(get_data())  # {'data': 'example'}\n",
    "```\n",
    "\n"
   ]
  },
  {
   "cell_type": "code",
   "execution_count": null,
   "metadata": {},
   "outputs": [],
   "source": [
    "# ваш код тут\n",
    "def fetch_data():\n",
    "    return {'data': 'example'}\n"
   ]
  }
 ],
 "metadata": {
  "language_info": {
   "name": "python"
  }
 },
 "nbformat": 4,
 "nbformat_minor": 2
}
